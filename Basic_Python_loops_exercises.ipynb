{
  "cells": [
    {
      "cell_type": "markdown",
      "metadata": {
        "id": "view-in-github",
        "colab_type": "text"
      },
      "source": [
        "<a href=\"https://colab.research.google.com/github/julius831/covid-portfolio-project/blob/main/Basic_Python_loops_exercises.ipynb\" target=\"_parent\"><img src=\"https://colab.research.google.com/assets/colab-badge.svg\" alt=\"Open In Colab\"/></a>"
      ]
    },
    {
      "cell_type": "markdown",
      "id": "1bc8fd93",
      "metadata": {
        "id": "1bc8fd93"
      },
      "source": [
        "<div align=\"center\" style=\" font-size: 80%; text-align: center; margin: 0 auto\">\n",
        "<img src=\"https://raw.githubusercontent.com/Explore-AI/Pictures/master/Python-Notebook-Banners/Exercise.png\"  style=\"display: block; margin-left: auto; margin-right: auto;\";/>\n",
        "</div>"
      ]
    },
    {
      "cell_type": "markdown",
      "id": "f662d169",
      "metadata": {
        "id": "f662d169"
      },
      "source": [
        "# Exercise: Basic Python loops\n"
      ]
    },
    {
      "cell_type": "markdown",
      "id": "26af890c",
      "metadata": {
        "id": "26af890c"
      },
      "source": [
        "In this notebook we will have the opportunity to solve some problems involving basic loops, helping you to master one of Python's core concepts.\n"
      ]
    },
    {
      "cell_type": "markdown",
      "id": "2d230d14",
      "metadata": {
        "tags": [],
        "id": "2d230d14"
      },
      "source": [
        "## Learning objectives\n",
        "\n",
        "In this train we will learn:\n",
        "- How to create basic `for` and `while` loops\n",
        "- How to control the flow of loops"
      ]
    },
    {
      "cell_type": "markdown",
      "id": "2ab2650d",
      "metadata": {
        "id": "2ab2650d"
      },
      "source": [
        "## Exercises"
      ]
    },
    {
      "cell_type": "markdown",
      "id": "5a0b7683",
      "metadata": {
        "tags": [],
        "id": "5a0b7683"
      },
      "source": [
        "### Exercise 1: Basic `for` loop\n",
        "\n",
        "**Objective:** Print each animal's name from the animals list using a `for` loop."
      ]
    },
    {
      "cell_type": "code",
      "execution_count": 1,
      "id": "0e3acd00",
      "metadata": {
        "colab": {
          "base_uri": "https://localhost:8080/"
        },
        "id": "0e3acd00",
        "outputId": "77241b0a-aec4-4740-a241-aeca7c449aa3"
      },
      "outputs": [
        {
          "output_type": "stream",
          "name": "stdout",
          "text": [
            "Great White Shark\n",
            "Blue Whale\n",
            "African Elephant\n",
            "Bald Eagle\n",
            "Orangutan\n",
            "Tiger\n",
            "Panda\n",
            "Koala\n"
          ]
        }
      ],
      "source": [
        "animals = ['Great White Shark', 'Blue Whale', 'African Elephant', 'Bald Eagle', 'Orangutan', 'Tiger', 'Panda', 'Koala']\n",
        "\n",
        "# Write a for loop to print each animal's name\n",
        "for animal in animals:\n",
        "    print(animal)\n"
      ]
    },
    {
      "cell_type": "markdown",
      "id": "c2096612",
      "metadata": {
        "id": "c2096612"
      },
      "source": [
        "### Exercise 2: `while` loop with condition\n",
        "\n",
        "**Objective:** Use a `while` loop to print numbers from 0 to 4.\n"
      ]
    },
    {
      "cell_type": "code",
      "execution_count": 2,
      "id": "467fd84f",
      "metadata": {
        "colab": {
          "base_uri": "https://localhost:8080/"
        },
        "id": "467fd84f",
        "outputId": "f82ddc67-5a62-4789-dcf5-044685c93f8c"
      },
      "outputs": [
        {
          "output_type": "stream",
          "name": "stdout",
          "text": [
            "0\n",
            "1\n",
            "2\n",
            "3\n",
            "4\n"
          ]
        }
      ],
      "source": [
        "# Initialize a variable 'i' to 0\n",
        "\n",
        "# Write a while loop that prints 'i' and increments it by 1 each time, until it reaches 4\n",
        "i = 0\n",
        "while i < 5:\n",
        "    print(i)\n",
        "    i += 1\n",
        "\n"
      ]
    },
    {
      "cell_type": "markdown",
      "id": "5e825fe0",
      "metadata": {
        "vscode": {
          "languageId": "plaintext"
        },
        "id": "5e825fe0"
      },
      "source": [
        "### Exercise 3: Using `break` in a loop\n",
        "\n",
        "**Objective:** Stop the loop once you find `Orangutan` in the animals list."
      ]
    },
    {
      "cell_type": "code",
      "execution_count": 3,
      "id": "3aba36fb",
      "metadata": {
        "colab": {
          "base_uri": "https://localhost:8080/"
        },
        "id": "3aba36fb",
        "outputId": "8d56a743-401b-4b11-9a06-dddbba008562"
      },
      "outputs": [
        {
          "output_type": "stream",
          "name": "stdout",
          "text": [
            "Orangutan\n"
          ]
        }
      ],
      "source": [
        "# Write a for loop with a break statement to stop the loop when 'Orangutan' is found\n",
        "for animal in animals:\n",
        " if animal == 'Orangutan':\n",
        "    break\n",
        "print(animal)"
      ]
    },
    {
      "cell_type": "markdown",
      "id": "ffee6d2c",
      "metadata": {
        "id": "ffee6d2c"
      },
      "source": [
        "### Exercise 4: Using `continue` in a loop\n",
        "\n",
        "**Objective:** Print all animals except 'Bald Eagle' using a for loop and continue statement."
      ]
    },
    {
      "cell_type": "code",
      "execution_count": 4,
      "id": "d1c33f26",
      "metadata": {
        "colab": {
          "base_uri": "https://localhost:8080/"
        },
        "id": "d1c33f26",
        "outputId": "e478b254-4933-4f19-c132-9c4f16e7519b"
      },
      "outputs": [
        {
          "output_type": "stream",
          "name": "stdout",
          "text": [
            "Great White Shark\n",
            "Blue Whale\n",
            "African Elephant\n",
            "Orangutan\n",
            "Tiger\n",
            "Panda\n",
            "Koala\n"
          ]
        }
      ],
      "source": [
        "# Write a for loop with a continue statement to skip 'Bald Eagle' and print other animals\n",
        "for animal in animals:\n",
        "    if animal == 'Bald Eagle':\n",
        "        continue\n",
        "    print(animal)"
      ]
    },
    {
      "cell_type": "markdown",
      "id": "f02c2669",
      "metadata": {
        "id": "f02c2669"
      },
      "source": [
        "### Exercise 5: Using `pass` in a loop\n",
        "\n",
        "**Objective:** Create a loop that does nothing when 'Panda' is encountered, but prints other animals."
      ]
    },
    {
      "cell_type": "code",
      "execution_count": 5,
      "id": "a915748c",
      "metadata": {
        "colab": {
          "base_uri": "https://localhost:8080/"
        },
        "id": "a915748c",
        "outputId": "066927e9-450b-4210-cf58-9be58cf73233"
      },
      "outputs": [
        {
          "output_type": "stream",
          "name": "stdout",
          "text": [
            "Great White Shark\n",
            "Blue Whale\n",
            "African Elephant\n",
            "Bald Eagle\n",
            "Orangutan\n",
            "Tiger\n",
            "Koala\n"
          ]
        }
      ],
      "source": [
        "# Write a for loop with a pass statement for 'Panda' and print other animals\n",
        "for animal in animals:\n",
        "    if animal == 'Panda':\n",
        "        pass\n",
        "    else:\n",
        "        print(animal)\n"
      ]
    },
    {
      "cell_type": "markdown",
      "id": "f7f34420",
      "metadata": {
        "id": "f7f34420"
      },
      "source": [
        "## Solutions"
      ]
    },
    {
      "cell_type": "markdown",
      "id": "0d2aed8d",
      "metadata": {
        "id": "0d2aed8d"
      },
      "source": [
        "### Exercise 1: Basic `for` loop\n",
        "\n",
        "**Explanation:** The `for` loop iterates over each element in the animals list. For each iteration, the variable animal takes the value of the current list element, which is then printed.\n"
      ]
    },
    {
      "cell_type": "code",
      "execution_count": null,
      "id": "0d22811d",
      "metadata": {
        "id": "0d22811d"
      },
      "outputs": [],
      "source": [
        "animals = ['Great White Shark', 'Blue Whale', 'African Elephant',\n",
        "           'Bald Eagle', 'Orangutan', 'Tiger', 'Panda', 'Koala']\n",
        "\n",
        "for animal in animals:\n",
        "    print(animal)"
      ]
    },
    {
      "cell_type": "markdown",
      "id": "00abfb73",
      "metadata": {
        "id": "00abfb73"
      },
      "source": [
        "### Exercise 2: `while` loop with condition\n",
        "\n",
        "**Explanation:** This `while` loop starts with i initialized to 0. As long as i is less than 5, the loop prints the value of i and then increments i by 1. The loop exits when i reaches 5.\n"
      ]
    },
    {
      "cell_type": "code",
      "execution_count": null,
      "id": "1ff6612a",
      "metadata": {
        "id": "1ff6612a"
      },
      "outputs": [],
      "source": [
        "i = 0\n",
        "while i < 5:\n",
        "    print(i)\n",
        "    i += 1"
      ]
    },
    {
      "cell_type": "markdown",
      "id": "c684820a",
      "metadata": {
        "id": "c684820a"
      },
      "source": [
        "### Exercise 3: Using `break` in a loop\n",
        "\n",
        "**Explanation:** The loop iterates over the animals list. When it encounters `Orangutan`, the `break` statement is executed, which immediately exits the loop, so `Orangutan` and any subsequent animals are not printed.\n"
      ]
    },
    {
      "cell_type": "code",
      "execution_count": null,
      "id": "07571dec",
      "metadata": {
        "id": "07571dec"
      },
      "outputs": [],
      "source": [
        "for animal in animals:\n",
        "    if animal == 'Orangutan':\n",
        "        break\n",
        "    print(animal)"
      ]
    },
    {
      "cell_type": "markdown",
      "id": "6ba801c1",
      "metadata": {
        "id": "6ba801c1"
      },
      "source": [
        "What would happen if you printed the animal first, then had the break statement?"
      ]
    },
    {
      "cell_type": "markdown",
      "id": "591d5057",
      "metadata": {
        "id": "591d5057"
      },
      "source": [
        "### Exercise 4: Using `continue` in a loop\n",
        "\n",
        "**Explanation:** In this loop, when `Bald Eagle` is encountered, the `continue` statement is executed, which skips the current iteration and moves to the next iteration, thus not printing `Bald Eagle`."
      ]
    },
    {
      "cell_type": "code",
      "execution_count": null,
      "id": "bedf7970",
      "metadata": {
        "id": "bedf7970"
      },
      "outputs": [],
      "source": [
        "for animal in animals:\n",
        "    if animal == 'Bald Eagle':\n",
        "        continue\n",
        "    print(animal)"
      ]
    },
    {
      "cell_type": "markdown",
      "id": "d6f62c9a",
      "metadata": {
        "id": "d6f62c9a"
      },
      "source": [
        "### Exercise 5: Using `pass` in a loop\n",
        "\n",
        "**Explanation:** The loop goes through each animal. When it encounters `Panda`, the `pass` statement does nothing, and the loop continues without printing `Panda`. For all other animals, the `else` clause is executed, printing their names."
      ]
    },
    {
      "cell_type": "code",
      "execution_count": null,
      "id": "a207dce8",
      "metadata": {
        "id": "a207dce8"
      },
      "outputs": [],
      "source": [
        "for animal in animals:\n",
        "    if animal == 'Panda':\n",
        "        pass\n",
        "    else:\n",
        "        print(animal)"
      ]
    },
    {
      "cell_type": "markdown",
      "id": "e9956efe",
      "metadata": {
        "tags": [],
        "id": "e9956efe"
      },
      "source": [
        "## Summary\n",
        "\n",
        "These exercises provided practical experience with basic `for` and `while` loops in Python, as well as with loop control statements like `break`, `continue`, and `pass`. Through these exercises, you've seen how `for` loops are **ideal for iterating over a sequence**, `while` loops are used **when a condition determines the continuation of the loop**, `break` can be used to exit a loop immediately, `continue` skips the rest of the current loop iteration, and `pass` acts as a placeholder without affecting loop execution."
      ]
    },
    {
      "cell_type": "markdown",
      "id": "26fd094b-0fee-46f1-a4b8-73766813c42b",
      "metadata": {
        "tags": [],
        "id": "26fd094b-0fee-46f1-a4b8-73766813c42b"
      },
      "source": [
        "#  \n",
        "\n",
        "<div align=\"center\" style=\" font-size: 80%; text-align: center; margin: 0 auto\">\n",
        "<img src=\"https://raw.githubusercontent.com/Explore-AI/Pictures/refs/heads/master/ALX_banners/ALX_Navy.png\"  style=\"width:140px\";/>\n",
        "</div>"
      ]
    }
  ],
  "metadata": {
    "kernelspec": {
      "display_name": "Python 3 (ipykernel)",
      "language": "python",
      "name": "python3"
    },
    "language_info": {
      "codemirror_mode": {
        "name": "ipython",
        "version": 3
      },
      "file_extension": ".py",
      "mimetype": "text/x-python",
      "name": "python",
      "nbconvert_exporter": "python",
      "pygments_lexer": "ipython3",
      "version": "3.11.5"
    },
    "colab": {
      "provenance": [],
      "include_colab_link": true
    }
  },
  "nbformat": 4,
  "nbformat_minor": 5
}