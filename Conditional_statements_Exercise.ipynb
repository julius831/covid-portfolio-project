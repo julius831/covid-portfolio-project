{
  "cells": [
    {
      "cell_type": "markdown",
      "metadata": {
        "id": "view-in-github",
        "colab_type": "text"
      },
      "source": [
        "<a href=\"https://colab.research.google.com/github/julius831/covid-portfolio-project/blob/main/Conditional_statements_Exercise.ipynb\" target=\"_parent\"><img src=\"https://colab.research.google.com/assets/colab-badge.svg\" alt=\"Open In Colab\"/></a>"
      ]
    },
    {
      "cell_type": "markdown",
      "metadata": {
        "id": "wIzUlkhvB8Ek"
      },
      "source": [
        "<div align=\"center\" style=\" font-size: 80%; text-align: center; margin: 0 auto\">\n",
        "<img src=\"https://raw.githubusercontent.com/Explore-AI/Pictures/master/Python-Notebook-Banners/Exercise.png\"  style=\"display: block; margin-left: auto; margin-right: auto;\";/>\n",
        "</div>"
      ],
      "id": "wIzUlkhvB8Ek"
    },
    {
      "cell_type": "markdown",
      "id": "1ceab647",
      "metadata": {
        "id": "1ceab647"
      },
      "source": [
        "# Exercise: Conditional statements\n"
      ]
    },
    {
      "cell_type": "markdown",
      "id": "e80e6089",
      "metadata": {
        "id": "e80e6089"
      },
      "source": [
        "In this exercise, we practise using various conditional statements to solve problems."
      ]
    },
    {
      "cell_type": "markdown",
      "metadata": {
        "id": "Sx4rdbh-B8Ex"
      },
      "source": [
        "## Learning objectives\n",
        "\n",
        "In this train, we will practise:\n",
        "- Using `if`, `elif`, `else`, and nested conditions to make decisions in Python.\n",
        "- Applying logical and ternary operators for efficient conditional logic."
      ],
      "id": "Sx4rdbh-B8Ex"
    },
    {
      "cell_type": "markdown",
      "metadata": {
        "id": "JdWN4XIiB8Ey"
      },
      "source": [
        "## Exercises"
      ],
      "id": "JdWN4XIiB8Ey"
    },
    {
      "cell_type": "markdown",
      "id": "51ad27d2",
      "metadata": {
        "id": "51ad27d2"
      },
      "source": [
        "### Exercise 1\n",
        "\n",
        "Use conditional statements to categorise an animal based on its risk status. The program should define a variable, `individuals_in_wild` (representing the number of individuals in the wild), and use it to print the correct response based on the following categories:\n",
        "- `\"Critically Endangered\"` for less than `1000` individuals.\n",
        "- `\"Endangered\"` for `1000` to `5000` individuals.\n",
        "- `\"Vulnerable\"` for `5001` to `20000` individuals.\n",
        "- `\"Safe\"` for more than `20000` individuals.\n",
        "\n",
        "Assume there are `5500` leopards left in South Africa. Assign this number to `individuals_in_wild` and note what category they fall under."
      ]
    },
    {
      "cell_type": "code",
      "execution_count": 3,
      "metadata": {
        "colab": {
          "base_uri": "https://localhost:8080/"
        },
        "id": "pVNsRa7nB8E0",
        "outputId": "42e74ad9-8b1f-499d-cd0b-06510c34b49f"
      },
      "outputs": [
        {
          "output_type": "stream",
          "name": "stdout",
          "text": [
            "Vulnerable\n"
          ]
        }
      ],
      "source": [
        "# insert code here\n",
        "individuals_in_wild = 5500\n",
        "if individuals_in_wild < 1000:\n",
        "    print(\"Critically Endangered\")\n",
        "elif 1000 <= individuals_in_wild <= 5000:\n",
        "    print(\"Endangered\")\n",
        "elif 5000 <= individuals_in_wild <= 20000:\n",
        "    print(\"Vulnerable\")\n",
        "else:\n",
        "    print(\"Safe\")"
      ],
      "id": "pVNsRa7nB8E0"
    },
    {
      "cell_type": "markdown",
      "id": "e15cb96e",
      "metadata": {
        "id": "e15cb96e"
      },
      "source": [
        "### Exercise 2\n",
        "\n",
        " Use conditional statements to determine if a region is experiencing water scarcity. The program should store two variables: `rainfall` (the average annual rainfall in mm) and `population_density` (people per square km). It should print the appropriate message based on the following criteria to determine water scarcity:\n",
        "\n",
        "- `\"Severe Scarcity\"` if rainfall is less than `500`mm and population density is more than `500` people per square km.\n",
        "- `\"Moderate Scarcity\"` if both of the following are true:\n",
        "    - Rainfall is between `500`mm and `1000`mm, inclusive.\n",
        "    - Population density is between `200` and `500`, inclusive.\n",
        "- `\"No Scarcity\"` otherwise.\n",
        "\n",
        "Assume the annual `rainfall` is `205`mm and the `population_density` is `448` per square km."
      ]
    },
    {
      "cell_type": "code",
      "execution_count": 5,
      "metadata": {
        "colab": {
          "base_uri": "https://localhost:8080/"
        },
        "id": "6jNNNkYZB8E4",
        "outputId": "c7c5f569-134c-408c-e41a-ecaf44747936"
      },
      "outputs": [
        {
          "output_type": "stream",
          "name": "stdout",
          "text": [
            "No Scarcity\n"
          ]
        }
      ],
      "source": [
        "# insert code here\n",
        "rainfall = 205\n",
        "population_density = 448\n",
        "if rainfall < 500 and population_density > 500:\n",
        "    print(\"Severe Scarcity\")\n",
        "elif 500 <= rainfall <= 1000 and 200 <= population_density <= 500:\n",
        "    print(\"Moderate Scarcity\")\n",
        "else:\n",
        "    print(\"No Scarcity\")"
      ],
      "id": "6jNNNkYZB8E4"
    },
    {
      "cell_type": "markdown",
      "id": "926e46eb",
      "metadata": {
        "id": "926e46eb"
      },
      "source": [
        "### Exercise 3\n",
        "\n",
        "To assist a recycling initiative, write code that will categorise items based on their `material` type and `size`, and output the category of recycling.\n",
        "\n",
        "The program should store two variables, `material` and `size`, which can have 4 and 3 possible values, respectively:\n",
        "- `material` – possible inputs: `\"paper\"`, `\"plastic\"`, `\"metal\"`, `\"glass\"`\n",
        "- `size` – possible inputs: `\"small\"`, `\"medium\"`, `\"large\"`\n",
        "\n",
        "Output the category of recycling:\n",
        "- `\"Special Handling\"` for large metal or glass items.\n",
        "- `\"Standard Recycling\"` for all medium-sized items and small metal or glass items.\n",
        "- `\"Composting\"` for small paper items.\n",
        "- `\"Landfill\"` for small plastic items and all other cases."
      ]
    },
    {
      "cell_type": "code",
      "execution_count": 7,
      "metadata": {
        "colab": {
          "base_uri": "https://localhost:8080/"
        },
        "id": "ckyea2tlB8E6",
        "outputId": "42b0900d-13f8-4d1b-a8aa-5ed1aeaf5398"
      },
      "outputs": [
        {
          "output_type": "stream",
          "name": "stdout",
          "text": [
            "special handling\n"
          ]
        }
      ],
      "source": [
        "from logging import getLoggerClass\n",
        "# insert code here\n",
        "material = \"glass\"\n",
        "size = \"large\"\n",
        "if size == \"large\" and (material == \"metal\" or material == \"glass\"):\n",
        " print(\"special handling\")\n",
        "elif size == \"medium\" and (material == \"metal\" or material == \"glass\"):\n",
        " print(\"standard recycling\")\n",
        "elif size == \"small\" and material == \"paper\":\n",
        " print(\"composting\")\n",
        "else:\n",
        " print(\"landfill\")"
      ],
      "id": "ckyea2tlB8E6"
    },
    {
      "cell_type": "markdown",
      "id": "314b69ed",
      "metadata": {
        "id": "314b69ed"
      },
      "source": [
        "### Exercise 4\n",
        "\n",
        "Write a program to evaluate the use of renewable energy sources in a household. The program should define a variable `solar` that stores whether or not a household uses solar (`True` or `False` values only). If a household does not use solar, print `\"Needs Improvement\"`. Otherwise, print `\"Eco-friendly\"`.\n",
        "\n",
        "Note: You must solve this exercise using `if not`."
      ]
    },
    {
      "cell_type": "code",
      "execution_count": 11,
      "metadata": {
        "colab": {
          "base_uri": "https://localhost:8080/"
        },
        "id": "8l4evrizB8E8",
        "outputId": "a44ce45e-5a5c-47ff-ec41-dad72917b4c3"
      },
      "outputs": [
        {
          "output_type": "stream",
          "name": "stdout",
          "text": [
            "eco-friendly\n"
          ]
        }
      ],
      "source": [
        "# insert code here\n",
        "solar = True\n",
        "if not solar:\n",
        " print(\"needs improvement\")\n",
        "else:\n",
        "    print(\"eco-friendly\")"
      ],
      "id": "8l4evrizB8E8"
    },
    {
      "cell_type": "markdown",
      "id": "fd22165c",
      "metadata": {
        "id": "fd22165c"
      },
      "source": [
        "### Exercise 5\n",
        "\n",
        "Write a program that issues an alert if deforestation in an area exceeds a certain threshold. Define a variable `deforestation_rate` (it can be any number between `0` and `1`).\n",
        "\n",
        "If the `deforestation_rate` is above `0.1`, print `\"High Alert\"`. If it is not, nothing should be printed."
      ]
    },
    {
      "cell_type": "code",
      "execution_count": 12,
      "metadata": {
        "colab": {
          "base_uri": "https://localhost:8080/"
        },
        "id": "ddzL4B4pB8E8",
        "outputId": "008908da-d63b-4c74-de10-db1a03780f60"
      },
      "outputs": [
        {
          "output_type": "stream",
          "name": "stdout",
          "text": [
            "high alert\n"
          ]
        }
      ],
      "source": [
        "# insert code here\n",
        "deforestation_rate = 0.6\n",
        "if deforestation_rate > 0.1:\n",
        "    print(\"high alert\")\n"
      ],
      "id": "ddzL4B4pB8E8"
    },
    {
      "cell_type": "markdown",
      "id": "914eba02",
      "metadata": {
        "id": "914eba02"
      },
      "source": [
        "### Exercise 6\n",
        "\n",
        "Develop a program to check the air quality index (AQI).\n",
        "\n",
        "The program should define a variable `aqi` (it can be any integer value between `0` and `300`). It should then use a ternary operator to print `\"Poor Air Quality\"` if `aqi` is above `100`, or `\"Good Air Quality\"` otherwise."
      ]
    },
    {
      "cell_type": "code",
      "execution_count": 14,
      "metadata": {
        "colab": {
          "base_uri": "https://localhost:8080/"
        },
        "id": "dzYOmb5gB8E9",
        "outputId": "306c9005-7d7f-4106-b723-ba32af146106"
      },
      "outputs": [
        {
          "output_type": "stream",
          "name": "stdout",
          "text": [
            "good air quality\n"
          ]
        }
      ],
      "source": [
        "# insert code here\n",
        "aqi = 77\n",
        "print(\"poor air quality\") if aqi > 100 else print(\"good air quality\")"
      ],
      "id": "dzYOmb5gB8E9"
    },
    {
      "cell_type": "markdown",
      "id": "dc10e22c",
      "metadata": {
        "id": "dc10e22c"
      },
      "source": [
        "## Solutions"
      ]
    },
    {
      "cell_type": "markdown",
      "id": "b542a6ff",
      "metadata": {
        "id": "b542a6ff"
      },
      "source": [
        "### Exercise 1"
      ]
    },
    {
      "cell_type": "code",
      "execution_count": null,
      "id": "21f4ef7b",
      "metadata": {
        "id": "21f4ef7b"
      },
      "outputs": [],
      "source": [
        "# Any number can be assigned to this variable\n",
        "individuals_in_wild = 5500\n",
        "\n",
        "# Prints vulnerability message\n",
        "if individuals_in_wild < 1000:\n",
        "    print(\"Critically Endangered\")\n",
        "elif 1000 <= individuals_in_wild <= 5000:\n",
        "    print(\"Endangered\")\n",
        "elif 5001 <= individuals_in_wild <= 20000:\n",
        "    print(\"Vulnerable\")\n",
        "else:\n",
        "    print(\"Safe\")"
      ]
    },
    {
      "cell_type": "markdown",
      "metadata": {
        "id": "-4ueIvbtB8E_"
      },
      "source": [
        "Or, since our program checks our statements from top to bottom, we could code our solution more simply as follows:"
      ],
      "id": "-4ueIvbtB8E_"
    },
    {
      "cell_type": "code",
      "execution_count": 4,
      "metadata": {
        "colab": {
          "base_uri": "https://localhost:8080/"
        },
        "id": "0lTK1APGB8FA",
        "outputId": "94047d63-7fbe-4478-9ac9-99082219e016"
      },
      "outputs": [
        {
          "output_type": "stream",
          "name": "stdout",
          "text": [
            "Vulnerable\n"
          ]
        }
      ],
      "source": [
        "individuals_in_wild = 5500\n",
        "\n",
        "if individuals_in_wild < 1000:\n",
        "    print('Critically Endangered')\n",
        "elif individuals_in_wild <= 5000:\n",
        "    print('Endangered')\n",
        "elif individuals_in_wild <= 20000:\n",
        "    print('Vulnerable')\n",
        "else:\n",
        "    print('Safe')"
      ],
      "id": "0lTK1APGB8FA"
    },
    {
      "cell_type": "markdown",
      "id": "6cf90985",
      "metadata": {
        "id": "6cf90985"
      },
      "source": [
        "### Exercise 2"
      ]
    },
    {
      "cell_type": "code",
      "execution_count": null,
      "id": "923b1f9e",
      "metadata": {
        "id": "923b1f9e"
      },
      "outputs": [],
      "source": [
        "# Any numbers can be assigned to these variables\n",
        "rainfall = 205\n",
        "population_density = 448\n",
        "\n",
        "# Check if there is water scarcity\n",
        "if rainfall < 500 and population_density > 500:\n",
        "    print(\"Severe Scarcity\")\n",
        "elif 500 <= rainfall <= 1000 and 200 <= population_density <= 500:\n",
        "    print(\"Moderate Scarcity\")\n",
        "else:\n",
        "    print(\"No Scarcity\")"
      ]
    },
    {
      "cell_type": "markdown",
      "id": "c0afc3c4",
      "metadata": {
        "id": "c0afc3c4"
      },
      "source": [
        "### Exercise 3"
      ]
    },
    {
      "cell_type": "code",
      "execution_count": null,
      "id": "9610405d",
      "metadata": {
        "id": "9610405d"
      },
      "outputs": [],
      "source": [
        "# Any of the specified types can be assigned to these variables\n",
        "material = \"glass\"\n",
        "size = \"large\"\n",
        "\n",
        "# Check recycling category\n",
        "if size == \"large\" and (material == \"metal\" or material == \"glass\"):\n",
        "    print(\"Special Handling\")\n",
        "elif size == \"medium\" or (size == \"small\" and (material == \"metal\" or material == \"glass\")):\n",
        "    print(\"Standard Recycling\")\n",
        "elif size == \"small\" and material == \"paper\":\n",
        "    print(\"Composting\")\n",
        "else:\n",
        "    print(\"Landfill\")"
      ]
    },
    {
      "cell_type": "markdown",
      "id": "85eaf823",
      "metadata": {
        "id": "85eaf823"
      },
      "source": [
        "### Exercise 4"
      ]
    },
    {
      "cell_type": "code",
      "execution_count": null,
      "id": "efd3c272",
      "metadata": {
        "id": "efd3c272"
      },
      "outputs": [],
      "source": [
        "# True or False can be assigned to this variable\n",
        "solar = True\n",
        "\n",
        "if not solar:\n",
        "    print(\"Needs Improvement\")\n",
        "else:\n",
        "    print(\"Eco-friendly\")"
      ]
    },
    {
      "cell_type": "markdown",
      "id": "c4c3aa20",
      "metadata": {
        "id": "c4c3aa20"
      },
      "source": [
        "### Exercise 5"
      ]
    },
    {
      "cell_type": "code",
      "execution_count": null,
      "id": "1ac60dcb",
      "metadata": {
        "id": "1ac60dcb"
      },
      "outputs": [],
      "source": [
        "# Any rate can be assigned to this variable\n",
        "deforestation_rate = 0.6\n",
        "\n",
        "if deforestation_rate > 0.1:\n",
        "    print(\"High Alert\")\n",
        "else:\n",
        "    pass"
      ]
    },
    {
      "cell_type": "markdown",
      "metadata": {
        "id": "RBNAoQf-B8FE"
      },
      "source": [
        "Note: The `pass` statement is technically not required here, as we would get the same behaviour if we removed the `else` statement altogether. Instead, it is just being used as a placeholder."
      ],
      "id": "RBNAoQf-B8FE"
    },
    {
      "cell_type": "markdown",
      "id": "73ddad71",
      "metadata": {
        "id": "73ddad71"
      },
      "source": [
        "### Exercise 6"
      ]
    },
    {
      "cell_type": "code",
      "execution_count": null,
      "id": "2b6b0efa",
      "metadata": {
        "id": "2b6b0efa"
      },
      "outputs": [],
      "source": [
        "# Assign any aqi value\n",
        "aqi = 77\n",
        "\n",
        "# Use a ternary operator to check air quality\n",
        "print(\"Poor Air Quality\") if aqi > 100 else print(\"Good Air Quality\")"
      ]
    },
    {
      "cell_type": "markdown",
      "id": "e2dddb35",
      "metadata": {
        "id": "e2dddb35"
      },
      "source": [
        "#  \n",
        "\n",
        "<div align=\"center\" style=\" font-size: 80%; text-align: center; margin: 0 auto\">\n",
        "<img src=\"https://raw.githubusercontent.com/Explore-AI/Pictures/refs/heads/master/ALX_banners/ALX_Navy.png\"  style=\"width:140px\";/>\n",
        "</div>"
      ]
    }
  ],
  "metadata": {
    "kernelspec": {
      "display_name": "Python 3 (ipykernel)",
      "language": "python",
      "name": "python3"
    },
    "language_info": {
      "codemirror_mode": {
        "name": "ipython",
        "version": 3
      },
      "file_extension": ".py",
      "mimetype": "text/x-python",
      "name": "python",
      "nbconvert_exporter": "python",
      "pygments_lexer": "ipython3",
      "version": "3.11.5"
    },
    "colab": {
      "provenance": [],
      "include_colab_link": true
    }
  },
  "nbformat": 4,
  "nbformat_minor": 5
}