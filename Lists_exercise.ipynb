{
  "cells": [
    {
      "cell_type": "markdown",
      "metadata": {
        "id": "view-in-github",
        "colab_type": "text"
      },
      "source": [
        "<a href=\"https://colab.research.google.com/github/julius831/covid-portfolio-project/blob/main/Lists_exercise.ipynb\" target=\"_parent\"><img src=\"https://colab.research.google.com/assets/colab-badge.svg\" alt=\"Open In Colab\"/></a>"
      ]
    },
    {
      "cell_type": "markdown",
      "id": "cd88ea27",
      "metadata": {
        "id": "cd88ea27"
      },
      "source": [
        "<div align=\"center\" style=\" font-size: 80%; text-align: center; margin: 0 auto\">\n",
        "<img src=\"https://raw.githubusercontent.com/Explore-AI/Pictures/master/Python-Notebook-Banners/Exercise.png\"  style=\"display: block; margin-left: auto; margin-right: auto;\";/>\n",
        "</div>"
      ]
    },
    {
      "cell_type": "markdown",
      "id": "f662d169",
      "metadata": {
        "id": "f662d169"
      },
      "source": [
        "# Exercise: Lists\n"
      ]
    },
    {
      "cell_type": "markdown",
      "id": "26af890c",
      "metadata": {
        "id": "26af890c"
      },
      "source": [
        "In this exercise, we'll be exploring how we can create, manipulate, and slice lists.\n"
      ]
    },
    {
      "cell_type": "markdown",
      "id": "2d230d14",
      "metadata": {
        "tags": [],
        "id": "2d230d14"
      },
      "source": [
        "## Learning objectives\n",
        "\n",
        "In this train, we will:\n",
        "- Create lists.\n",
        "- Manipulate and slice lists.\n",
        "- Work with nested lists.\n"
      ]
    },
    {
      "cell_type": "markdown",
      "id": "de45a481",
      "metadata": {
        "id": "de45a481"
      },
      "source": [
        "## Exercises"
      ]
    },
    {
      "cell_type": "markdown",
      "id": "5963de69",
      "metadata": {
        "id": "5963de69"
      },
      "source": [
        "### Exercise 1\n",
        "\n",
        "1. Suppose we want to label the trees we plant in our plantation, using integer numbers. Let's create a list containing integers from 1 to 5, named `first_trees`."
      ]
    },
    {
      "cell_type": "code",
      "execution_count": 3,
      "id": "1931f159",
      "metadata": {
        "scrolled": true,
        "vscode": {
          "languageId": "plaintext"
        },
        "colab": {
          "base_uri": "https://localhost:8080/"
        },
        "id": "1931f159",
        "outputId": "2838a570-5979-4d8e-b1c8-c4196a5d2c73"
      },
      "outputs": [
        {
          "output_type": "stream",
          "name": "stdout",
          "text": [
            "Option 1:  [1, 2, 3, 4, 5]\n"
          ]
        }
      ],
      "source": [
        "# insert code here\n",
        "first_trees = [1, 2, 3, 4, 5]\n",
        "print('Option 1: ',first_trees)\n"
      ]
    },
    {
      "cell_type": "markdown",
      "id": "22477565",
      "metadata": {
        "id": "22477565"
      },
      "source": [
        "*If this list was created by specifying each element individually, see whether you can find another way to create the variable.*"
      ]
    },
    {
      "cell_type": "markdown",
      "id": "b43692bd",
      "metadata": {
        "id": "b43692bd"
      },
      "source": [
        "<br>\n",
        "\n",
        "2. Our plantation has expanded a lot in the last few weeks. We need to create a list of trees planted within 15 cm of an irrigation device. Create a list called `tree_list`,  starting at 20, ranging to 140, in increments of 4 (i.e. `20, 24,...,140`).\n"
      ]
    },
    {
      "cell_type": "code",
      "execution_count": 2,
      "id": "b8f86baf",
      "metadata": {
        "colab": {
          "base_uri": "https://localhost:8080/"
        },
        "id": "b8f86baf",
        "outputId": "4652d8c9-8b85-4a21-e7da-7c14cc6b69db"
      },
      "outputs": [
        {
          "output_type": "stream",
          "name": "stdout",
          "text": [
            "[20, 24, 28, 32, 36, 40, 44, 48, 52, 56, 60, 64, 68, 72, 76, 80, 84, 88, 92, 96, 100, 104, 108, 112, 116, 120, 124, 128, 132, 136, 140]\n"
          ]
        }
      ],
      "source": [
        "# insert code here\n",
        "tree_list = list(range(20, 144, 4))\n",
        "print(tree_list)"
      ]
    },
    {
      "cell_type": "markdown",
      "id": "9bdefe7b",
      "metadata": {
        "id": "9bdefe7b"
      },
      "source": [
        "<br>\n",
        "\n",
        "3. When we created our irrigation tree list, we forgot about a tree that is watered by an older irrigation system.  Append the number `400` to the end of the tree_list."
      ]
    },
    {
      "cell_type": "code",
      "execution_count": 4,
      "id": "c6efc3c7",
      "metadata": {
        "colab": {
          "base_uri": "https://localhost:8080/"
        },
        "id": "c6efc3c7",
        "outputId": "dd584ce3-bb16-4f66-ca35-d32ee983ac9b"
      },
      "outputs": [
        {
          "output_type": "stream",
          "name": "stdout",
          "text": [
            "[20, 24, 28, 32, 36, 40, 44, 48, 52, 56, 60, 64, 68, 72, 76, 80, 84, 88, 92, 96, 100, 104, 108, 112, 116, 120, 124, 128, 132, 136, 140, 400]\n"
          ]
        }
      ],
      "source": [
        "# insert code here\n",
        "tree_list.append(400)\n",
        "print(tree_list)\n"
      ]
    },
    {
      "cell_type": "markdown",
      "id": "af071175",
      "metadata": {
        "id": "af071175"
      },
      "source": [
        "<br>\n",
        "\n",
        "4. We decide to install irrigation for three older trees that were planted long ago. Create a new variable called `combined_trees` by **combining** our existing `tree_list` with another list, `old_trees = [500, 600, 700]`. Your list should now contain 35 elements."
      ]
    },
    {
      "cell_type": "code",
      "execution_count": 7,
      "id": "229281b9",
      "metadata": {
        "colab": {
          "base_uri": "https://localhost:8080/"
        },
        "id": "229281b9",
        "outputId": "92a0115d-434c-42fc-86ed-591a7cf98ba7"
      },
      "outputs": [
        {
          "output_type": "stream",
          "name": "stdout",
          "text": [
            "35\n"
          ]
        }
      ],
      "source": [
        "# insert code here\n",
        "old_trees = [500, 600, 700]\n",
        "combined_trees = tree_list+old_trees\n",
        "print(len(combined_trees))\n",
        "# len(combined_trees)"
      ]
    },
    {
      "cell_type": "markdown",
      "id": "ede839d8",
      "metadata": {
        "id": "ede839d8"
      },
      "source": [
        "<br>\n",
        "\n",
        "5. We are interested in creating a **list of lists** or **nested list**. We have two lists of seed-producing plants, `conifers` and `cycads`. Given these lists in the code block below, create a variable called `gymnosperms`, the family group to which these trees belong.\n",
        "\n"
      ]
    },
    {
      "cell_type": "code",
      "execution_count": 8,
      "id": "335ad25b",
      "metadata": {
        "colab": {
          "base_uri": "https://localhost:8080/"
        },
        "id": "335ad25b",
        "outputId": "4d1a0c15-f0d5-4fa7-a7b2-cabfbda577fb"
      },
      "outputs": [
        {
          "output_type": "stream",
          "name": "stdout",
          "text": [
            "(['Pine', 'Fir', 'Juniper'], ['Cycas', 'Sago palm', 'Zamia'])\n"
          ]
        }
      ],
      "source": [
        "conifers = [\"Pine\", \"Fir\", \"Juniper\"]\n",
        "cycads = [\"Cycas\", \"Sago palm\", \"Zamia\"]\n",
        "\n",
        "# insert code here\n",
        "\n",
        "gymnosperms = (conifers,cycads)\n",
        "print(gymnosperms)"
      ]
    },
    {
      "cell_type": "markdown",
      "id": "54521903",
      "metadata": {
        "id": "54521903"
      },
      "source": [
        "<br>\n",
        "\n",
        "6. We are specifically interested in planting cycas and sago palms. Use indexing on the `gymnosperms` list to create a new list that consists of `Cycas` and `Sago palm`."
      ]
    },
    {
      "cell_type": "code",
      "execution_count": 12,
      "id": "f174203a",
      "metadata": {
        "colab": {
          "base_uri": "https://localhost:8080/"
        },
        "id": "f174203a",
        "outputId": "6da2ddfa-2721-4b61-ab6b-fde2744cd138"
      },
      "outputs": [
        {
          "output_type": "stream",
          "name": "stdout",
          "text": [
            "['Cycas', 'Sago palm']\n"
          ]
        }
      ],
      "source": [
        "# insert code here\n",
        "new_list = gymnosperms[1][0:2]\n",
        "print(new_list)"
      ]
    },
    {
      "cell_type": "markdown",
      "id": "7c1c1f36",
      "metadata": {
        "id": "7c1c1f36"
      },
      "source": [
        "<br>\n",
        "\n",
        "7. We need to combine the plants within the `conifers` and `cycads` lists, then sort them in alphabetical order. Create a list, `ordered_plants`, to store them in.\n",
        "\n",
        "Hint: The list variable should contain all the plants as individual elements before sorting it."
      ]
    },
    {
      "cell_type": "code",
      "execution_count": 13,
      "id": "a90a5948",
      "metadata": {
        "colab": {
          "base_uri": "https://localhost:8080/"
        },
        "id": "a90a5948",
        "outputId": "090294fb-85ae-40f7-862a-b48d50148937"
      },
      "outputs": [
        {
          "output_type": "stream",
          "name": "stdout",
          "text": [
            "['Cycas', 'Fir', 'Juniper', 'Pine', 'Sago palm', 'Zamia']\n"
          ]
        }
      ],
      "source": [
        "# insert code here\n",
        "combined_trees = conifers + cycads\n",
        "ordered_plants = sorted(combined_trees)\n",
        "print(ordered_plants)"
      ]
    },
    {
      "cell_type": "markdown",
      "id": "555dea0d",
      "metadata": {
        "id": "555dea0d"
      },
      "source": [
        "## Solutions"
      ]
    },
    {
      "cell_type": "markdown",
      "id": "9ff8f391",
      "metadata": {
        "id": "9ff8f391"
      },
      "source": [
        "### Exercise 1\n",
        "\n",
        "1. Suppose we want to label the trees we plant in our plantation using integer numbers. Let's create a list containing integers from 1 to 5, named `first_trees`."
      ]
    },
    {
      "cell_type": "code",
      "execution_count": null,
      "id": "ad52ad95",
      "metadata": {
        "scrolled": true,
        "vscode": {
          "languageId": "plaintext"
        },
        "id": "ad52ad95"
      },
      "outputs": [],
      "source": [
        "# insert code here\n",
        "# option 1: specifying individual elements\n",
        "first_trees = [1, 2, 3, 4, 5]\n",
        "print('Option 1: ',first_trees)\n",
        "\n",
        "# option 2: using the range function\n",
        "first_trees = list(range(1,6))\n",
        "print('Option 2 using range: ',first_trees)"
      ]
    },
    {
      "cell_type": "markdown",
      "id": "006d7dfe",
      "metadata": {
        "id": "006d7dfe"
      },
      "source": [
        "There are **two ways to create our list** – explicitly listing the elements using square brackets, or using the `range` function, which allows us to specify a starting and an end point for the elements we'd like to include."
      ]
    },
    {
      "cell_type": "markdown",
      "id": "8df54ea0",
      "metadata": {
        "id": "8df54ea0"
      },
      "source": [
        "<br>\n",
        "\n",
        "2. Our plantation has expanded a lot in the last few weeks. We need to create a list of trees planted within 15 cm of an irrigation device. Create a list called `tree_list`,  starting at 20, ranging to 140, in increments of 4 (i.e. `20, 24,...,140`)."
      ]
    },
    {
      "cell_type": "code",
      "execution_count": null,
      "id": "2f0f21bb",
      "metadata": {
        "id": "2f0f21bb"
      },
      "outputs": [],
      "source": [
        "# insert code here\n",
        "tree_list = list(range(20, 144, 4))\n",
        "print(tree_list)"
      ]
    },
    {
      "cell_type": "markdown",
      "id": "6643a99c",
      "metadata": {
        "id": "6643a99c"
      },
      "source": [
        "In the above question, we've illustrated the ease with which we can use the `range()` function to create lists, especially when we require **many elements in specific intervals**."
      ]
    },
    {
      "cell_type": "markdown",
      "id": "59ce350f",
      "metadata": {
        "id": "59ce350f"
      },
      "source": [
        "<br>\n",
        "\n",
        "3. When we created our irrigation tree list, we forgot about a tree that is watered by an older irrigation system.  Append the number `400` to the end of the tree_list."
      ]
    },
    {
      "cell_type": "code",
      "execution_count": null,
      "id": "cc5b7b7f",
      "metadata": {
        "id": "cc5b7b7f"
      },
      "outputs": [],
      "source": [
        "# insert code here\n",
        "tree_list.append(400)\n",
        "print(tree_list)"
      ]
    },
    {
      "cell_type": "markdown",
      "id": "03b38db1",
      "metadata": {
        "id": "03b38db1"
      },
      "source": [
        "By using the `append` method, we can add an element to our tree list.\n"
      ]
    },
    {
      "cell_type": "markdown",
      "id": "213a0f9d",
      "metadata": {
        "id": "213a0f9d"
      },
      "source": [
        "<br>\n",
        "\n",
        "4. We decide to install irrigation for three older trees that were planted long ago. Create a new variable called `combined_trees` by **combining** our existing `tree_list` with another list, `old_trees = [500, 600, 700]`. Your list should now contain 35 elements."
      ]
    },
    {
      "cell_type": "code",
      "execution_count": null,
      "id": "2b64c9ab",
      "metadata": {
        "id": "2b64c9ab"
      },
      "outputs": [],
      "source": [
        "# insert code here\n",
        "old_trees = [500, 600, 700]\n",
        "combined_trees = tree_list+old_trees\n",
        "print(combined_trees)\n",
        "len(combined_trees)"
      ]
    },
    {
      "cell_type": "markdown",
      "id": "c34c178f",
      "metadata": {
        "id": "c34c178f"
      },
      "source": [
        "We've added the elements from the `old_trees` to our existing `tree_list` by using the `+` operator. If we wanted to add the list as a **single element**, `append` would've been the appropriate command."
      ]
    },
    {
      "cell_type": "markdown",
      "id": "92e47b17",
      "metadata": {
        "id": "92e47b17"
      },
      "source": [
        "<br>\n",
        "\n",
        "5. We are interested in creating a **list of lists** or **nested list**. We have two lists of seed-producing plants, `conifers` and `cycads`. Given these lists in the code block below, create a variable called `gymnosperms`, the family group to which these trees belong.\n"
      ]
    },
    {
      "cell_type": "code",
      "execution_count": null,
      "id": "96475741",
      "metadata": {
        "id": "96475741"
      },
      "outputs": [],
      "source": [
        "conifers = [\"Pine\",\"Fir\",\"Juniper\"]\n",
        "cycads = [\"Cycas\",\"Sago palm\",\"Zamia\"]\n",
        "\n",
        "# insert code here\n",
        "gymnosperms = [conifers,cycads]\n",
        "print(gymnosperms)\n"
      ]
    },
    {
      "cell_type": "markdown",
      "id": "0672962b",
      "metadata": {
        "id": "0672962b"
      },
      "source": [
        "Note that we can easily create a list of lists by using our list constructor `[]` and our given lists, `conifers` and `cycads`."
      ]
    },
    {
      "cell_type": "markdown",
      "id": "151716d9",
      "metadata": {
        "id": "151716d9"
      },
      "source": [
        "<br>\n",
        "\n",
        "6. We are specifically interested in planting cycas and sago palms. Use indexing on the `gymnosperms` list to create a new list that consists of `Cycas` and `Sago palm`."
      ]
    },
    {
      "cell_type": "code",
      "execution_count": null,
      "id": "3cbe378d",
      "metadata": {
        "id": "3cbe378d"
      },
      "outputs": [],
      "source": [
        "# insert code here\n",
        "new_list = gymnosperms[1][0:2]\n",
        "new_list"
      ]
    },
    {
      "cell_type": "markdown",
      "id": "a9f5b071",
      "metadata": {
        "id": "a9f5b071"
      },
      "source": [
        "The `gymnosperm` variable is a **list of lists** or a **nested list**. Fortunately, we can still access elements in nested lists by **using indexing**, drilling down to the individual elements we need. The **slice** of the inner list (`cycads`) is **returned as a list** itself, so there is no need to convert that to a list."
      ]
    },
    {
      "cell_type": "markdown",
      "id": "8545fa3d",
      "metadata": {
        "id": "8545fa3d"
      },
      "source": [
        "<br>\n",
        "\n",
        "7. We need to combine the plants within the `conifers` and `cycads` lists, then sort them in alphabetical order. Create a list, `ordered_plants`, to store them in.\n",
        "\n",
        "Hint: The list variable should contain all the plants as individual elements before sorting it."
      ]
    },
    {
      "cell_type": "code",
      "execution_count": null,
      "id": "2fb7b530",
      "metadata": {
        "id": "2fb7b530"
      },
      "outputs": [],
      "source": [
        "# insert code here\n",
        "plants = cycads + conifers\n",
        "print(plants)\n",
        "\n",
        "# option 1: use sorted()\n",
        "ordered_plants = sorted(plants, reverse=False)\n",
        "print(ordered_plants)\n",
        "\n"
      ]
    },
    {
      "cell_type": "code",
      "execution_count": null,
      "id": "f0633f2c",
      "metadata": {
        "id": "f0633f2c"
      },
      "outputs": [],
      "source": [
        "# insert code here\n",
        "# option 2: use sort() - this alters the original variable and returns None,\n",
        "# so it cannot be used directly in print statement\n",
        "print(plants)\n",
        "plants_copy = plants.copy()\n",
        "plants_copy.sort()\n",
        "print(plants_copy)"
      ]
    },
    {
      "cell_type": "markdown",
      "id": "45eee5ac",
      "metadata": {
        "id": "45eee5ac"
      },
      "source": [
        "Both `sort()` and `sorted()` allow us to order our lists, but an important difference between them is that `sort()` returns a `None` value (modifying the original variable), whereas `sorted()` returns a list.\n",
        "Be sure to go and look at the documentation for these functions."
      ]
    },
    {
      "cell_type": "markdown",
      "id": "e9956efe",
      "metadata": {
        "tags": [],
        "id": "e9956efe"
      },
      "source": [
        "## Summary\n",
        "\n",
        "In this exercise, we looked at how to create, manipulate, and slice lists. Nested lists are just another version of a normal list, and the same operations for indexing apply when we're trying to extract elements."
      ]
    },
    {
      "cell_type": "markdown",
      "id": "26fd094b-0fee-46f1-a4b8-73766813c42b",
      "metadata": {
        "tags": [],
        "id": "26fd094b-0fee-46f1-a4b8-73766813c42b"
      },
      "source": [
        "#  \n",
        "\n",
        "<div align=\"center\" style=\" font-size: 80%; text-align: center; margin: 0 auto\">\n",
        "<img src=\"https://raw.githubusercontent.com/Explore-AI/Pictures/refs/heads/master/ALX_banners/ALX_Navy.png\"  style=\"width:140px\";/>\n",
        "</div>"
      ]
    }
  ],
  "metadata": {
    "kernelspec": {
      "display_name": "Python 3 (ipykernel)",
      "language": "python",
      "name": "python3"
    },
    "language_info": {
      "codemirror_mode": {
        "name": "ipython",
        "version": 3
      },
      "file_extension": ".py",
      "mimetype": "text/x-python",
      "name": "python",
      "nbconvert_exporter": "python",
      "pygments_lexer": "ipython3",
      "version": "3.11.5"
    },
    "colab": {
      "provenance": [],
      "include_colab_link": true
    }
  },
  "nbformat": 4,
  "nbformat_minor": 5
}