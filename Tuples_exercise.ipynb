{
  "cells": [
    {
      "cell_type": "markdown",
      "metadata": {
        "id": "view-in-github",
        "colab_type": "text"
      },
      "source": [
        "<a href=\"https://colab.research.google.com/github/julius831/covid-portfolio-project/blob/main/Tuples_exercise.ipynb\" target=\"_parent\"><img src=\"https://colab.research.google.com/assets/colab-badge.svg\" alt=\"Open In Colab\"/></a>"
      ]
    },
    {
      "cell_type": "markdown",
      "id": "1a8f72ba",
      "metadata": {
        "id": "1a8f72ba"
      },
      "source": [
        "<div align=\"center\" style=\" font-size: 80%; text-align: center; margin: 0 auto\">\n",
        "<img src=\"https://raw.githubusercontent.com/Explore-AI/Pictures/master/Python-Notebook-Banners/Exercise.png\"  style=\"display: block; margin-left: auto; margin-right: auto;\";/>\n",
        "</div>"
      ]
    },
    {
      "cell_type": "markdown",
      "id": "f662d169",
      "metadata": {
        "id": "f662d169"
      },
      "source": [
        "# Exercise: Tuples\n"
      ]
    },
    {
      "cell_type": "markdown",
      "id": "3fffe403",
      "metadata": {
        "id": "3fffe403"
      },
      "source": [
        "In this exercise, we are going to solve problems involving tuples."
      ]
    },
    {
      "cell_type": "markdown",
      "id": "2d230d14",
      "metadata": {
        "tags": [],
        "id": "2d230d14"
      },
      "source": [
        "## Learning objectives\n",
        "\n",
        "- Create, concatenate, and slice tuples.\n",
        "- Make use of tuple methods.\n",
        "- Unpack a tuple."
      ]
    },
    {
      "cell_type": "markdown",
      "id": "6d305bd2",
      "metadata": {
        "id": "6d305bd2"
      },
      "source": [
        "## Exercises"
      ]
    },
    {
      "cell_type": "markdown",
      "id": "5a0b7683",
      "metadata": {
        "tags": [],
        "id": "5a0b7683"
      },
      "source": [
        "### Exercise 1\n",
        "\n",
        "1. Create a tuple named `tree_tuple` containing three elements: `8`, `'apple'`, and `'Granny Smith'`.\n"
      ]
    },
    {
      "cell_type": "code",
      "execution_count": 1,
      "id": "ca40207e",
      "metadata": {
        "vscode": {
          "languageId": "plaintext"
        },
        "colab": {
          "base_uri": "https://localhost:8080/"
        },
        "id": "ca40207e",
        "outputId": "9b648405-95e7-4774-b056-d101419b5393"
      },
      "outputs": [
        {
          "output_type": "stream",
          "name": "stdout",
          "text": [
            "(8, 'apple', 'Granny Smith')\n"
          ]
        }
      ],
      "source": [
        "# insert your code here\n",
        "tree_tuple = (8, 'apple', 'Granny Smith')\n",
        "print(tree_tuple)\n",
        "\n"
      ]
    },
    {
      "cell_type": "markdown",
      "id": "5f37ca4c",
      "metadata": {
        "id": "5f37ca4c"
      },
      "source": [
        "Note: We can use the `type()` function to check that `tree_tuple` is, in fact, a tuple."
      ]
    },
    {
      "cell_type": "markdown",
      "id": "fb6d5acd",
      "metadata": {
        "id": "fb6d5acd"
      },
      "source": [
        "<br>\n",
        "\n",
        "2. Find the length of the tuple.\n"
      ]
    },
    {
      "cell_type": "code",
      "execution_count": 2,
      "id": "0b5ccea5",
      "metadata": {
        "colab": {
          "base_uri": "https://localhost:8080/"
        },
        "id": "0b5ccea5",
        "outputId": "f0a312db-c73f-4a6f-caf9-9550042a858a"
      },
      "outputs": [
        {
          "output_type": "stream",
          "name": "stdout",
          "text": [
            "3\n"
          ]
        }
      ],
      "source": [
        "# insert your code here\n",
        "length_tuple =len(tree_tuple)\n",
        "print(length_tuple)\n"
      ]
    },
    {
      "cell_type": "markdown",
      "id": "83911c8e",
      "metadata": {
        "id": "83911c8e"
      },
      "source": [
        "<br>\n",
        "\n",
        "3. Access the second element, `'apple'`, in the `tree_tuple` using an index and assign the value to a variable called `fruit`. Print the variable."
      ]
    },
    {
      "cell_type": "code",
      "execution_count": 3,
      "id": "52f5bc48",
      "metadata": {
        "colab": {
          "base_uri": "https://localhost:8080/"
        },
        "id": "52f5bc48",
        "outputId": "15465a63-6a20-4f6c-c726-cb7f0bcb265d"
      },
      "outputs": [
        {
          "output_type": "stream",
          "name": "stdout",
          "text": [
            "fruit:apple\n"
          ]
        }
      ],
      "source": [
        "# insert your code here\n",
        "apple = tree_tuple[1]\n",
        "print(f\"fruit:{apple}\")\n",
        "\n"
      ]
    },
    {
      "cell_type": "markdown",
      "id": "ab6f589c",
      "metadata": {
        "id": "ab6f589c"
      },
      "source": [
        "<br>\n",
        "\n",
        "4. Attempt to change the value of `'apple'` in `tree_tuple` to `'pear'` using assignment.\n"
      ]
    },
    {
      "cell_type": "code",
      "execution_count": 5,
      "id": "0eb3a78f",
      "metadata": {
        "colab": {
          "base_uri": "https://localhost:8080/",
          "height": 159
        },
        "id": "0eb3a78f",
        "outputId": "bc416d9e-8d30-430f-b9e3-6e5154b4565b"
      },
      "outputs": [
        {
          "output_type": "error",
          "ename": "TypeError",
          "evalue": "'tuple' object does not support item assignment",
          "traceback": [
            "\u001b[0;31m---------------------------------------------------------------------------\u001b[0m",
            "\u001b[0;31mTypeError\u001b[0m                                 Traceback (most recent call last)",
            "\u001b[0;32m/tmp/ipython-input-2131614318.py\u001b[0m in \u001b[0;36m<cell line: 0>\u001b[0;34m()\u001b[0m\n\u001b[1;32m      1\u001b[0m \u001b[0;31m# insert your code here\u001b[0m\u001b[0;34m\u001b[0m\u001b[0;34m\u001b[0m\u001b[0m\n\u001b[0;32m----> 2\u001b[0;31m \u001b[0mtree_tuple\u001b[0m\u001b[0;34m[\u001b[0m\u001b[0;36m1\u001b[0m\u001b[0;34m]\u001b[0m \u001b[0;34m=\u001b[0m \u001b[0;34m'pear'\u001b[0m\u001b[0;34m\u001b[0m\u001b[0;34m\u001b[0m\u001b[0m\n\u001b[0m",
            "\u001b[0;31mTypeError\u001b[0m: 'tuple' object does not support item assignment"
          ]
        }
      ],
      "source": [
        "# insert your code here\n",
        "tree_tuple[1] = 'pear'\n"
      ]
    },
    {
      "cell_type": "markdown",
      "id": "ed3af8cf",
      "metadata": {
        "id": "ed3af8cf"
      },
      "source": [
        " If you got an error, it's exactly what should happen! **Tuples are immutable** and we cannot alter their contents after creation.\n",
        "   \n",
        ""
      ]
    },
    {
      "cell_type": "markdown",
      "id": "9d80cde9",
      "metadata": {
        "id": "9d80cde9"
      },
      "source": [
        "<br>\n",
        "\n",
        "5. Create a new tuple called `text_only` and place the last two elements of `tree_tuple` into it."
      ]
    },
    {
      "cell_type": "code",
      "execution_count": 9,
      "id": "21fbb221",
      "metadata": {
        "colab": {
          "base_uri": "https://localhost:8080/"
        },
        "id": "21fbb221",
        "outputId": "a52b5b9c-7475-491a-fa94-1161705b9b06"
      },
      "outputs": [
        {
          "output_type": "stream",
          "name": "stdout",
          "text": [
            "('apple', 'Granny Smith')\n"
          ]
        }
      ],
      "source": [
        "# insert your code here\n",
        "text_only = tree_tuple[1:3]\n",
        "print(text_only)\n",
        "\n"
      ]
    },
    {
      "cell_type": "markdown",
      "id": "5e148cac",
      "metadata": {
        "id": "5e148cac"
      },
      "source": [
        "<br>\n",
        "\n",
        "### Exercise 2\n",
        "\n",
        "1. Create two tuples: `fruit_summer` and `fruit_winter`, with elements (`'peach'`, `'apricot'`, `'plum'`) and (`'lemon'`, `'orange'`, `'grapefruit'`), respectively. Print the tuples to screen in the same print statement.\n"
      ]
    },
    {
      "cell_type": "code",
      "execution_count": 14,
      "id": "6aad0f85",
      "metadata": {
        "vscode": {
          "languageId": "plaintext"
        },
        "colab": {
          "base_uri": "https://localhost:8080/"
        },
        "id": "6aad0f85",
        "outputId": "f0ff116e-3225-4543-dedd-c85d2095fb77"
      },
      "outputs": [
        {
          "output_type": "stream",
          "name": "stdout",
          "text": [
            "('peach', 'apricot', 'plum') ('lemon', 'orange', 'grapefruit')\n"
          ]
        }
      ],
      "source": [
        "# insert your code here\n",
        "fruit_summer = ('peach', 'apricot', 'plum')\n",
        "fruit_winter = ('lemon', 'orange', 'grapefruit')\n",
        "print(fruit_summer, fruit_winter)"
      ]
    },
    {
      "cell_type": "markdown",
      "id": "7baad7aa",
      "metadata": {
        "id": "7baad7aa"
      },
      "source": [
        "<br>\n",
        "\n",
        "2. Combine these following two tuples, `fruit_summer` and `fruit_winter`, to form a new tuple, `all_fruit`. Print the new tuple to the screen."
      ]
    },
    {
      "cell_type": "code",
      "execution_count": 15,
      "id": "7dd8dce1",
      "metadata": {
        "colab": {
          "base_uri": "https://localhost:8080/"
        },
        "id": "7dd8dce1",
        "outputId": "b9281970-b2b5-49da-86ab-031a5aa6548b"
      },
      "outputs": [
        {
          "output_type": "stream",
          "name": "stdout",
          "text": [
            "('peach', 'apricot', 'plum', 'lemon', 'orange', 'grapefruit')\n"
          ]
        }
      ],
      "source": [
        "# insert your code here\n",
        "all_fruit = fruit_summer + fruit_winter\n",
        "print(all_fruit)\n"
      ]
    },
    {
      "cell_type": "markdown",
      "id": "607ed006",
      "metadata": {
        "id": "607ed006"
      },
      "source": [
        "<br>\n",
        "\n",
        "3. Confirm how many times the element `'peach'` appears in `all_fruit`."
      ]
    },
    {
      "cell_type": "code",
      "execution_count": 16,
      "id": "5fa8890d",
      "metadata": {
        "colab": {
          "base_uri": "https://localhost:8080/"
        },
        "id": "5fa8890d",
        "outputId": "650b6e80-26f4-4731-c527-57fb0df56d6e"
      },
      "outputs": [
        {
          "output_type": "stream",
          "name": "stdout",
          "text": [
            "1\n"
          ]
        }
      ],
      "source": [
        "# insert your code here\n",
        "\n",
        "count_peach = all_fruit.count('peach')\n",
        "print(count_peach)"
      ]
    },
    {
      "cell_type": "markdown",
      "id": "616c87fe",
      "metadata": {
        "id": "616c87fe"
      },
      "source": [
        "<br>\n",
        "\n",
        "4. Suppose we have the `combined_info` tuple shown in the block of code below, containing three elements – the colour of the fruit, the age of the tree, and the type of tree. We'd however like to work with these elements individually and need to create variables (colour, age, tree_type) for each of the elements in the tuple.  "
      ]
    },
    {
      "cell_type": "code",
      "execution_count": 18,
      "id": "ae5c21c1",
      "metadata": {
        "colab": {
          "base_uri": "https://localhost:8080/"
        },
        "id": "ae5c21c1",
        "outputId": "96d7f446-de07-4f1e-837b-ea2751a53d75"
      },
      "outputs": [
        {
          "output_type": "stream",
          "name": "stdout",
          "text": [
            "colour: yellow\n",
            "age: 5)\n",
            "tree_type: lemon\n"
          ]
        }
      ],
      "source": [
        "# combined_info tuple\n",
        "combined_info = ('yellow', 5, 'lemon')\n",
        "\n",
        "# insert your code here\n",
        "print(f\"colour: {combined_info[0]}\")\n",
        "print(f\"age: {combined_info[1]})\")\n",
        "print(f\"tree_type: {combined_info[2]}\")"
      ]
    },
    {
      "cell_type": "markdown",
      "id": "68a84035",
      "metadata": {
        "id": "68a84035"
      },
      "source": [
        "Did you use an index to assign the values to variables? If so, also take a look at the solution provided later in this notebook for a fast way of assigning tuple elements to variables!"
      ]
    },
    {
      "cell_type": "markdown",
      "id": "fe04494e",
      "metadata": {
        "id": "fe04494e"
      },
      "source": [
        "<br>\n",
        "\n",
        "## Solutions"
      ]
    },
    {
      "cell_type": "markdown",
      "id": "6c41349e",
      "metadata": {
        "id": "6c41349e"
      },
      "source": [
        "### Exercise 1\n",
        "\n",
        "1. Create a tuple named `tree_tuple` containing three elements: `8`, `'apple'`, and `'Granny Smith'`.\n",
        "\n",
        "In order to create our tuple, we enclose the elements in **round brackets ()** and assign it to our variable."
      ]
    },
    {
      "cell_type": "code",
      "execution_count": null,
      "id": "8b8b08f6",
      "metadata": {
        "vscode": {
          "languageId": "plaintext"
        },
        "id": "8b8b08f6"
      },
      "outputs": [],
      "source": [
        "# assign value to the tree_tuple\n",
        "tree_tuple = (8, 'apple', 'Granny Smith')\n",
        "\n",
        "# see what it looks like printed\n",
        "print(tree_tuple)\n"
      ]
    },
    {
      "cell_type": "code",
      "execution_count": null,
      "id": "3e3b761d",
      "metadata": {
        "id": "3e3b761d"
      },
      "outputs": [],
      "source": [
        "# confirm that we have created a tuple using the `type()` function\n",
        "type(tree_tuple)"
      ]
    },
    {
      "cell_type": "markdown",
      "id": "24ee3fd8",
      "metadata": {
        "id": "24ee3fd8"
      },
      "source": [
        "<br>\n",
        "\n",
        "2. Find the length of the tuple.\n",
        "\n",
        "We can use one of the built-in functions Python provides, `len()`, to determine the number of elements in the tuple."
      ]
    },
    {
      "cell_type": "code",
      "execution_count": null,
      "id": "8efe03f8",
      "metadata": {
        "id": "8efe03f8"
      },
      "outputs": [],
      "source": [
        "len(tree_tuple)\n"
      ]
    },
    {
      "cell_type": "markdown",
      "id": "6ca8d7ce",
      "metadata": {
        "id": "6ca8d7ce"
      },
      "source": [
        "<br>\n",
        "\n",
        "3. Access the second element, `'apple'`, in the `tree_tuple` using an index and assign the value to a variable called `fruit`. Print the variable.\n",
        "\n",
        "The index for a tuple starts at 0, meaning that in order to access the 2nd element, we should refer to position 1 in the square brackets."
      ]
    },
    {
      "cell_type": "code",
      "execution_count": 4,
      "id": "02f24ec0",
      "metadata": {
        "colab": {
          "base_uri": "https://localhost:8080/"
        },
        "id": "02f24ec0",
        "outputId": "4cdfa948-5580-4437-8f01-5f284c32957d"
      },
      "outputs": [
        {
          "output_type": "stream",
          "name": "stdout",
          "text": [
            "apple\n"
          ]
        }
      ],
      "source": [
        "fruit = tree_tuple[1]\n",
        "print(fruit)"
      ]
    },
    {
      "cell_type": "markdown",
      "id": "2aca53ff",
      "metadata": {
        "id": "2aca53ff"
      },
      "source": [
        "<br>\n",
        "\n",
        "4. Attempt to change the value of `'apple'` in `tree_tuple` to `'pear'` using assignment.\n",
        "\n",
        "If tuples were mutable, we would be able to assign a value to an index. However, as we can see in the error message below, **tuples do not support item assignment** because they are **immutable**. The only way to change the values in a tuple is to reassign all the values to the variable."
      ]
    },
    {
      "cell_type": "code",
      "execution_count": null,
      "id": "2def0376",
      "metadata": {
        "id": "2def0376"
      },
      "outputs": [],
      "source": [
        "tree_tuple[1] = 'pear'"
      ]
    },
    {
      "cell_type": "markdown",
      "id": "69d06228",
      "metadata": {
        "id": "69d06228"
      },
      "source": [
        "<br>\n",
        "\n",
        "5. Create a new tuple called `text_only` and place the last two elements of `tree_tuple` into it.\n",
        "\n",
        "Remember that the **first element** we want to include has an **index value of 1**, and as such, our index slice starts there.\n",
        "\n",
        "An easy way to check whether we sliced correctly is by subtracting the first part of our slice from the second `(3 minus 1)`, which is equal to two elements in the new tuple."
      ]
    },
    {
      "cell_type": "code",
      "execution_count": 13,
      "id": "cf49efda",
      "metadata": {
        "colab": {
          "base_uri": "https://localhost:8080/"
        },
        "id": "cf49efda",
        "outputId": "ad9295c8-56a4-4383-ef58-c64014a51315"
      },
      "outputs": [
        {
          "output_type": "stream",
          "name": "stdout",
          "text": [
            "('apple', 'Granny Smith')\n"
          ]
        }
      ],
      "source": [
        "# insert your code here\n",
        "text_only = tree_tuple[-2:]\n",
        "print(text_only)\n"
      ]
    },
    {
      "cell_type": "code",
      "execution_count": 11,
      "id": "43343db6",
      "metadata": {
        "colab": {
          "base_uri": "https://localhost:8080/"
        },
        "id": "43343db6",
        "outputId": "359af04b-2e57-47c3-faa5-ba3231e13066"
      },
      "outputs": [
        {
          "output_type": "stream",
          "name": "stdout",
          "text": [
            "('apple', 'Granny Smith')\n"
          ]
        }
      ],
      "source": [
        "# Another solution makes use of negative indexing, leaving the second element empty\n",
        "text_only = tree_tuple[-2:]\n",
        "print(text_only)"
      ]
    },
    {
      "cell_type": "markdown",
      "id": "c0b6b1b8",
      "metadata": {
        "id": "c0b6b1b8"
      },
      "source": [
        "<br>\n",
        "\n",
        "### Exercise 2\n",
        "\n",
        "1. Create two tuples: `fruit_summer` and `fruit_winter`, with elements (`'peach'`, `'apricot'`, `'plum'`) and (`'lemon'`, `'orange'`, `'grapefruit'`), respectively. Print the tuples to screen in the same print statement.\n",
        "\n",
        "We can print tuples in a single print statement to screen, and they'll be printed in the same line.\n"
      ]
    },
    {
      "cell_type": "code",
      "execution_count": null,
      "id": "82247504",
      "metadata": {
        "vscode": {
          "languageId": "plaintext"
        },
        "id": "82247504"
      },
      "outputs": [],
      "source": [
        "# assigning the elements to two tuples\n",
        "fruit_summer = ('peach', 'apricot', 'plum')\n",
        "fruit_winter = ('lemon', 'orange', 'grapefruit')\n",
        "\n",
        "print(fruit_summer, fruit_winter)"
      ]
    },
    {
      "cell_type": "markdown",
      "id": "82412a31",
      "metadata": {
        "id": "82412a31"
      },
      "source": [
        "<br>\n",
        "\n",
        "2. Combine these following two tuples, `fruit_summer` and `fruit_winter`, to form a new tuple, `all_fruit`. Print the new tuple to the screen.\n",
        "\n",
        "We can concatenate tuples in Python by using the `+` sign. The order in which the tuples are summed determines the order of the elements of the combined tuple."
      ]
    },
    {
      "cell_type": "code",
      "execution_count": null,
      "id": "aa020a80",
      "metadata": {
        "id": "aa020a80"
      },
      "outputs": [],
      "source": [
        "# concatenate using +\n",
        "all_fruit = fruit_summer + fruit_winter\n",
        "\n",
        "print(all_fruit)"
      ]
    },
    {
      "cell_type": "markdown",
      "id": "e8fef2c3",
      "metadata": {
        "id": "e8fef2c3"
      },
      "source": [
        "<br>\n",
        "\n",
        "3. Confirm how many times the element `'plum'` appears in `all_fruit`.\n",
        "\n",
        "We call the `count()` method to state which element we are interested in counting. This is a useful way to determine whether a tuple contains duplicates."
      ]
    },
    {
      "cell_type": "code",
      "execution_count": null,
      "id": "03c4f754",
      "metadata": {
        "id": "03c4f754"
      },
      "outputs": [],
      "source": [
        "# use count method on all_fruit tuple\n",
        "all_fruit.count('plum')\n"
      ]
    },
    {
      "cell_type": "markdown",
      "id": "de3a5406",
      "metadata": {
        "id": "de3a5406"
      },
      "source": [
        "<br>\n",
        "\n",
        "4. Suppose we have the `combined_info` tuple shown in the block of code below, containing three elements – the colour of the fruit, the age of the tree, and the type of tree. We'd however like to work with these elements individually and need to create variables (colour, age, tree_type) for each of the elements in the tuple.  \n",
        "\n"
      ]
    },
    {
      "cell_type": "code",
      "execution_count": null,
      "id": "33e49e27",
      "metadata": {
        "id": "33e49e27"
      },
      "outputs": [],
      "source": [
        "# combined_info tuple\n",
        "combined_info = ('yellow', 5, 'lemon')\n",
        "\n",
        "# insert your code here\n",
        "colour, age, tree_type = combined_info"
      ]
    },
    {
      "cell_type": "markdown",
      "id": "01f2a9c9",
      "metadata": {
        "id": "01f2a9c9"
      },
      "source": [
        "By assigning a tuple directly to the variables in a single line, you can skip repeating assignments and the need to index elements individually. Note that the order determines the assignment. This functionality will be especially useful when dealing with functions."
      ]
    },
    {
      "cell_type": "code",
      "execution_count": null,
      "id": "b09b9ba0",
      "metadata": {
        "id": "b09b9ba0"
      },
      "outputs": [],
      "source": [
        "print(colour, age, tree_type)"
      ]
    },
    {
      "cell_type": "code",
      "execution_count": 19,
      "id": "e1ef209f",
      "metadata": {
        "colab": {
          "base_uri": "https://localhost:8080/"
        },
        "id": "e1ef209f",
        "outputId": "f62eea4a-c1ee-4ef9-f2cf-41177851a7b3"
      },
      "outputs": [
        {
          "output_type": "stream",
          "name": "stdout",
          "text": [
            "yellow 5 lemon\n"
          ]
        }
      ],
      "source": [
        "# the alternative, but longer solution\n",
        "colour_index = combined_info[0]\n",
        "age_index = combined_info[1]\n",
        "type_index = combined_info[2]\n",
        "\n",
        "print(colour_index, age_index, type_index)"
      ]
    },
    {
      "cell_type": "markdown",
      "id": "e9956efe",
      "metadata": {
        "tags": [],
        "id": "e9956efe"
      },
      "source": [
        "<br>\n",
        "\n",
        "## Summary\n",
        "\n",
        "Tuples are simple data structures and are especially useful when storing a **small number of elements** that need to be accessed during the course of a program. Remember to look at the Python documentation on tuples for more information and examples!"
      ]
    },
    {
      "cell_type": "markdown",
      "id": "26fd094b-0fee-46f1-a4b8-73766813c42b",
      "metadata": {
        "tags": [],
        "id": "26fd094b-0fee-46f1-a4b8-73766813c42b"
      },
      "source": [
        "#  \n",
        "\n",
        "<div align=\"center\" style=\" font-size: 80%; text-align: center; margin: 0 auto\">\n",
        "<img src=\"https://raw.githubusercontent.com/Explore-AI/Pictures/refs/heads/master/ALX_banners/ALX_Navy.png\"  style=\"width:140px\";/>\n",
        "</div>"
      ]
    }
  ],
  "metadata": {
    "kernelspec": {
      "display_name": "Python 3 (ipykernel)",
      "language": "python",
      "name": "python3"
    },
    "language_info": {
      "codemirror_mode": {
        "name": "ipython",
        "version": 3
      },
      "file_extension": ".py",
      "mimetype": "text/x-python",
      "name": "python",
      "nbconvert_exporter": "python",
      "pygments_lexer": "ipython3",
      "version": "3.11.5"
    },
    "colab": {
      "provenance": [],
      "include_colab_link": true
    }
  },
  "nbformat": 4,
  "nbformat_minor": 5
}